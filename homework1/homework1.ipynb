{
 "cells": [
  {
   "cell_type": "code",
   "execution_count": 1,
   "metadata": {
    "executionInfo": {
     "elapsed": 792,
     "status": "ok",
     "timestamp": 1603186973104,
     "user": {
      "displayName": "Chia Chun Ho",
      "photoUrl": "https://lh3.googleusercontent.com/a-/AOh14Gg6vqeGIn5Yecr3_hyMDeO640oB8yQrqPOJGU1t_A=s64",
      "userId": "06673172577965463232"
     },
     "user_tz": -480
    },
    "id": "W-N_0C-zgowC",
    "pycharm": {
     "is_executing": false
    }
   },
   "outputs": [],
   "source": [
    "import datetime\n",
    "import numpy as np\n",
    "import pandas as pd\n",
    "from tqdm import tqdm\n",
    "from sklearn.metrics.pairwise import cosine_similarity"
   ]
  },
  {
   "cell_type": "markdown",
   "metadata": {},
   "source": [
    "# Load file"
   ]
  },
  {
   "cell_type": "code",
   "execution_count": 2,
   "metadata": {
    "executionInfo": {
     "elapsed": 644,
     "status": "ok",
     "timestamp": 1603186973106,
     "user": {
      "displayName": "Chia Chun Ho",
      "photoUrl": "https://lh3.googleusercontent.com/a-/AOh14Gg6vqeGIn5Yecr3_hyMDeO640oB8yQrqPOJGU1t_A=s64",
      "userId": "06673172577965463232"
     },
     "user_tz": -480
    },
    "id": "PwLk8pYGoiKR",
    "pycharm": {
     "is_executing": false
    }
   },
   "outputs": [],
   "source": [
    "# load doc list\n",
    "with open('doc_list.txt') as f:\n",
    "    doc_list = f.read().splitlines()"
   ]
  },
  {
   "cell_type": "code",
   "execution_count": 3,
   "metadata": {
    "colab": {
     "base_uri": "https://localhost:8080/",
     "height": 67,
     "referenced_widgets": [
      "4681f63661c44a7681bc0e7a67566cf0",
      "f33739af70d34b48ba5d5d28368ca773",
      "f35f37f345bb4f4ba49488f3ed24baf1",
      "056b218619d94be5a0f469fe88a89c08",
      "89350b5c5cb8407389607cdbf49db21d",
      "711f86a0f6894ad58a29b1d8ff705bd1",
      "a72a27c8c5f14c90b3b43dbc582119a8",
      "c845cddaf1594d61929666e586751f85"
     ]
    },
    "executionInfo": {
     "elapsed": 8296,
     "status": "ok",
     "timestamp": 1603186980933,
     "user": {
      "displayName": "Chia Chun Ho",
      "photoUrl": "https://lh3.googleusercontent.com/a-/AOh14Gg6vqeGIn5Yecr3_hyMDeO640oB8yQrqPOJGU1t_A=s64",
      "userId": "06673172577965463232"
     },
     "user_tz": -480
    },
    "id": "HmDs-1-Zn9Jq",
    "outputId": "9191b597-416d-43b7-b04d-3dac11322a6a",
    "pycharm": {
     "is_executing": false
    }
   },
   "outputs": [
    {
     "name": "stderr",
     "output_type": "stream",
     "text": [
      "100%|██████████| 4191/4191 [00:01<00:00, 3564.82it/s]\n"
     ]
    }
   ],
   "source": [
    "# load doc from list\n",
    "docs = {}\n",
    "words = set()\n",
    "for doc in tqdm(doc_list):\n",
    "    with open('docs/' + doc + '.txt') as f:\n",
    "        data = f.read()\n",
    "        docs[doc] = data.split()\n",
    "#         words = words.union(set(docs[doc]))"
   ]
  },
  {
   "cell_type": "code",
   "execution_count": 4,
   "metadata": {},
   "outputs": [],
   "source": [
    "# load query list\n",
    "with open('query_list.txt') as f:\n",
    "    query_list = f.read().splitlines()"
   ]
  },
  {
   "cell_type": "code",
   "execution_count": 5,
   "metadata": {},
   "outputs": [
    {
     "name": "stderr",
     "output_type": "stream",
     "text": [
      "100%|██████████| 50/50 [00:00<00:00, 3034.91it/s]\n"
     ]
    }
   ],
   "source": [
    "# load query from list\n",
    "queries = {}\n",
    "for query in tqdm(query_list):\n",
    "    with open('queries/' + query + '.txt') as f:\n",
    "        data = f.read()\n",
    "        queries[query] = data.split()\n",
    "        words = words.union(set(queries[query]))"
   ]
  },
  {
   "cell_type": "markdown",
   "metadata": {},
   "source": [
    "# Dictionary save / load"
   ]
  },
  {
   "cell_type": "code",
   "execution_count": 6,
   "metadata": {
    "executionInfo": {
     "elapsed": 8192,
     "status": "ok",
     "timestamp": 1603186980936,
     "user": {
      "displayName": "Chia Chun Ho",
      "photoUrl": "https://lh3.googleusercontent.com/a-/AOh14Gg6vqeGIn5Yecr3_hyMDeO640oB8yQrqPOJGU1t_A=s64",
      "userId": "06673172577965463232"
     },
     "user_tz": -480
    },
    "id": "ZudAMmV6gnyx"
   },
   "outputs": [],
   "source": [
    "# save words\n",
    "with open('min_word_list.txt', 'w') as f:\n",
    "    f.write(' '.join(words))\n",
    "    \n",
    "words = list(words)"
   ]
  },
  {
   "cell_type": "code",
   "execution_count": 7,
   "metadata": {
    "executionInfo": {
     "elapsed": 1095,
     "status": "ok",
     "timestamp": 1603187043593,
     "user": {
      "displayName": "Chia Chun Ho",
      "photoUrl": "https://lh3.googleusercontent.com/a-/AOh14Gg6vqeGIn5Yecr3_hyMDeO640oB8yQrqPOJGU1t_A=s64",
      "userId": "06673172577965463232"
     },
     "user_tz": -480
    },
    "id": "tY6UsEPQn6N_"
   },
   "outputs": [],
   "source": [
    "# load words dict from file\n",
    "with open('min_word_list.txt') as f:\n",
    "    words = f.read().split()"
   ]
  },
  {
   "cell_type": "code",
   "execution_count": 8,
   "metadata": {
    "colab": {
     "base_uri": "https://localhost:8080/",
     "height": 1000
    },
    "executionInfo": {
     "elapsed": 578,
     "status": "ok",
     "timestamp": 1603187045208,
     "user": {
      "displayName": "Chia Chun Ho",
      "photoUrl": "https://lh3.googleusercontent.com/a-/AOh14Gg6vqeGIn5Yecr3_hyMDeO640oB8yQrqPOJGU1t_A=s64",
      "userId": "06673172577965463232"
     },
     "user_tz": -480
    },
    "id": "WK2vFxPqZNZw",
    "outputId": "ab97101f-9f86-4348-a387-b03a1de60502"
   },
   "outputs": [
    {
     "name": "stdout",
     "output_type": "stream",
     "text": [
      "123\n"
     ]
    }
   ],
   "source": [
    "print(len(words))"
   ]
  },
  {
   "cell_type": "markdown",
   "metadata": {},
   "source": [
    "# Calculate docment-tf, query-tf, df, idf"
   ]
  },
  {
   "cell_type": "code",
   "execution_count": 9,
   "metadata": {},
   "outputs": [
    {
     "name": "stderr",
     "output_type": "stream",
     "text": [
      "100%|██████████| 4191/4191 [00:04<00:00, 940.48it/s] \n"
     ]
    }
   ],
   "source": [
    "# term frequency in document\n",
    "\n",
    "tf_docs_list = []\n",
    "\n",
    "for content in tqdm(docs.values()):\n",
    "    tf_doc = []\n",
    "    for word in words:\n",
    "        tf_doc.append(content.count(word))\n",
    "    tf_docs_list.append(tf_doc)"
   ]
  },
  {
   "cell_type": "code",
   "execution_count": 10,
   "metadata": {},
   "outputs": [
    {
     "data": {
      "text/plain": [
       "array([[0, 0, 0, ..., 0, 0, 0],\n",
       "       [1, 0, 0, ..., 0, 0, 0],\n",
       "       [0, 0, 0, ..., 0, 0, 0],\n",
       "       ...,\n",
       "       [5, 2, 0, ..., 0, 0, 0],\n",
       "       [0, 0, 0, ..., 0, 0, 0],\n",
       "       [0, 0, 0, ..., 0, 0, 0]])"
      ]
     },
     "execution_count": 10,
     "metadata": {},
     "output_type": "execute_result"
    }
   ],
   "source": [
    "tf_docs_npy = np.array(tf_docs_list)\n",
    "np.save('min_tf_docs_npy', tf_docs_npy)\n",
    "tf_docs_npy"
   ]
  },
  {
   "cell_type": "code",
   "execution_count": 11,
   "metadata": {},
   "outputs": [
    {
     "name": "stderr",
     "output_type": "stream",
     "text": [
      "100%|██████████| 123/123 [00:04<00:00, 29.80it/s]\n"
     ]
    }
   ],
   "source": [
    "# document frequency\n",
    "\n",
    "df_list = []\n",
    "\n",
    "for word in tqdm(words):\n",
    "    count = 0\n",
    "    for content in docs.values():\n",
    "        if word in content:\n",
    "            count += 1\n",
    "    df_list.append(count)"
   ]
  },
  {
   "cell_type": "code",
   "execution_count": 12,
   "metadata": {},
   "outputs": [
    {
     "data": {
      "text/plain": [
       "array([ 419,  443,   13,  738,  302,  213,  249,  554,  174, 1376,  114,\n",
       "          7,  282,  290,  380,   73,  513,   79,   15,   27,  585,   86,\n",
       "        942,   33,  827,  303,  226,   14,   22,   29,  463,  134,  235,\n",
       "        244, 1715,  176,  274,  112,   57,  814,    1,  210,  443,   47,\n",
       "        408,   26,  122,   75,   76,  254,   12,   12,  160,   86,   21,\n",
       "        440,  346,  163,  161,   12,    0,  181,   71,  271,   25,  802,\n",
       "        306,  124,  310,  698,   23,    5,  402,  108,    7,  261,  151,\n",
       "        470,  461,  878,  370,   24,   33,  136,    5,  333,  191,  762,\n",
       "        221,   58,   48,   76,  755,  160,  545,   34,   44,  377, 1840,\n",
       "        149,  408, 1574,   32,  541,  138,  517,  168,   10,  482,  259,\n",
       "         12,  540,  288,  118,   71,  981,   82,  141,  590,  346,  145,\n",
       "          4,    3])"
      ]
     },
     "execution_count": 12,
     "metadata": {},
     "output_type": "execute_result"
    }
   ],
   "source": [
    "df_npy = np.array(df_list)\n",
    "np.save('min_df_npy', df_npy)\n",
    "df_npy"
   ]
  },
  {
   "cell_type": "code",
   "execution_count": 13,
   "metadata": {},
   "outputs": [
    {
     "name": "stderr",
     "output_type": "stream",
     "text": [
      "100%|██████████| 50/50 [00:00<00:00, 21430.12it/s]\n"
     ]
    }
   ],
   "source": [
    "# term frequency in query\n",
    "\n",
    "tf_queries_list = []\n",
    "\n",
    "for content in tqdm(queries.values()):\n",
    "    tf_query = []\n",
    "    for word in words:\n",
    "        tf_query.append(content.count(word))\n",
    "    tf_queries_list.append(tf_query)"
   ]
  },
  {
   "cell_type": "code",
   "execution_count": 14,
   "metadata": {},
   "outputs": [
    {
     "data": {
      "text/plain": [
       "array([[0, 0, 0, ..., 0, 0, 0],\n",
       "       [0, 0, 0, ..., 0, 0, 0],\n",
       "       [0, 0, 0, ..., 0, 0, 0],\n",
       "       ...,\n",
       "       [0, 0, 0, ..., 0, 0, 0],\n",
       "       [0, 0, 0, ..., 0, 0, 0],\n",
       "       [0, 0, 0, ..., 0, 0, 0]])"
      ]
     },
     "execution_count": 14,
     "metadata": {},
     "output_type": "execute_result"
    }
   ],
   "source": [
    "tf_queries_npy = np.array(tf_queries_list)\n",
    "np.save('min_tf_queries_npy', tf_queries_npy)\n",
    "tf_queries_npy"
   ]
  },
  {
   "cell_type": "code",
   "execution_count": 15,
   "metadata": {
    "id": "hC4ZfTun8Ork"
   },
   "outputs": [
    {
     "name": "stderr",
     "output_type": "stream",
     "text": [
      "100%|██████████| 123/123 [00:00<00:00, 177773.74it/s]\n"
     ]
    }
   ],
   "source": [
    "# inverse document frequency\n",
    "\n",
    "idf = []\n",
    "docs_len = len(docs)\n",
    "\n",
    "for df in tqdm(df_npy):\n",
    "    idf.append(np.log(1 + (1 + docs_len) / (1 + df)))"
   ]
  },
  {
   "cell_type": "code",
   "execution_count": 16,
   "metadata": {},
   "outputs": [
    {
     "data": {
      "text/plain": [
       "array([2.39616217, 2.34578264, 5.70521003, 1.89799917, 2.69698814,\n",
       "       3.02474651, 2.87739909, 2.1463    , 3.21704558, 1.39730828,\n",
       "       3.62306476, 6.26339826, 2.76081473, 2.73472448, 2.48512535,\n",
       "       4.05436681, 2.2143703 , 3.97781075, 5.57215403, 5.0153859 ,\n",
       "       2.09845754, 3.8955665 , 1.69476884, 4.82265067, 1.80217206,\n",
       "       2.69391569, 2.96871869, 5.63645488, 5.21091065, 4.94686685,\n",
       "       2.30602744, 3.46735496, 2.93187149, 2.89647554, 1.23631136,\n",
       "       3.2061397 , 2.78770122, 3.6401446 , 4.29423125, 1.8154041 ,\n",
       "       7.64826303, 3.03818327, 2.34578264, 4.48111754, 2.42031379,\n",
       "       5.05151655, 3.55766825, 4.02816727, 4.01532946, 2.85872145,\n",
       "       5.77908021, 5.77908021, 3.29721618, 3.8955665 , 5.25512514,\n",
       "       2.35191501, 2.57113722, 3.27944306, 3.29125391, 5.77908021,\n",
       "       8.34117175, 3.17942651, 4.08129685, 2.79799844, 5.08901982,\n",
       "       1.82783798, 2.68476268, 3.54200226, 2.67270621, 1.94550132,\n",
       "       5.16858826, 6.55060403, 2.43378747, 3.67525495, 6.26339826,\n",
       "       2.83321334, 3.35267034, 2.2925562 , 2.30991745, 1.75250842,\n",
       "       2.50953352, 5.12800343, 4.82265067, 3.45311092, 6.55060403,\n",
       "       2.60645283, 3.12822146, 1.87089442, 2.9898592 , 4.27737208,\n",
       "       4.46073407, 4.01532946, 1.87869736, 3.29721618, 2.16075141,\n",
       "       4.79389974, 4.54494826, 2.49237429, 1.1869355 , 3.36545506,\n",
       "       2.42031379, 1.29789674, 4.85226698, 2.16725979, 3.43907981,\n",
       "       2.20746794, 3.25055795, 5.94565856, 2.26996779, 2.84042708,\n",
       "       5.77908021, 2.16889525, 2.74117483, 3.58980168, 4.08129685,\n",
       "       1.66181005, 3.94169877, 3.41841912, 2.09100723, 2.57113722,\n",
       "       3.39156207, 6.73268735, 6.95559261])"
      ]
     },
     "execution_count": 16,
     "metadata": {},
     "output_type": "execute_result"
    }
   ],
   "source": [
    "idf_npy = np.array(idf)\n",
    "np.save('min_idf_npy', idf_npy)\n",
    "idf_npy"
   ]
  },
  {
   "cell_type": "markdown",
   "metadata": {},
   "source": [
    "# Load calculated matrix (save calculate time)"
   ]
  },
  {
   "cell_type": "code",
   "execution_count": 17,
   "metadata": {},
   "outputs": [],
   "source": [
    "tf_docs_npy = np.load('min_tf_docs_npy.npy')\n",
    "tf_queries_npy = np.load('min_tf_queries_npy.npy')\n",
    "df_npy = np.load('min_df_npy.npy')\n",
    "idf_npy = np.load('min_idf_npy.npy')"
   ]
  },
  {
   "cell_type": "code",
   "execution_count": 18,
   "metadata": {
    "scrolled": true
   },
   "outputs": [
    {
     "name": "stdout",
     "output_type": "stream",
     "text": [
      "(4191, 123) (50, 123) (123,) (123,)\n"
     ]
    }
   ],
   "source": [
    "print(tf_docs_npy.shape, tf_queries_npy.shape, df_npy.shape, idf_npy.shape)"
   ]
  },
  {
   "cell_type": "markdown",
   "metadata": {},
   "source": [
    "# Calculate TF-IDF(doc, query)"
   ]
  },
  {
   "cell_type": "code",
   "execution_count": 19,
   "metadata": {},
   "outputs": [],
   "source": [
    "# term weight (tf i,j)*log(1 + (1+N)/(1+ni))"
   ]
  },
  {
   "cell_type": "code",
   "execution_count": 20,
   "metadata": {
    "scrolled": false
   },
   "outputs": [
    {
     "name": "stdout",
     "output_type": "stream",
     "text": [
      "(4191, 123)\n"
     ]
    },
    {
     "data": {
      "text/plain": [
       "array([[ 0.        ,  0.        ,  0.        , ...,  0.        ,\n",
       "         0.        ,  0.        ],\n",
       "       [ 2.39616217,  0.        ,  0.        , ...,  0.        ,\n",
       "         0.        ,  0.        ],\n",
       "       [ 0.        ,  0.        ,  0.        , ...,  0.        ,\n",
       "         0.        ,  0.        ],\n",
       "       ...,\n",
       "       [11.98081085,  4.69156528,  0.        , ...,  0.        ,\n",
       "         0.        ,  0.        ],\n",
       "       [ 0.        ,  0.        ,  0.        , ...,  0.        ,\n",
       "         0.        ,  0.        ],\n",
       "       [ 0.        ,  0.        ,  0.        , ...,  0.        ,\n",
       "         0.        ,  0.        ]])"
      ]
     },
     "execution_count": 20,
     "metadata": {},
     "output_type": "execute_result"
    }
   ],
   "source": [
    "tf_idf_docs = tf_docs_npy * idf_npy\n",
    "print(tf_idf_docs.shape)\n",
    "tf_idf_docs"
   ]
  },
  {
   "cell_type": "code",
   "execution_count": 21,
   "metadata": {},
   "outputs": [
    {
     "name": "stdout",
     "output_type": "stream",
     "text": [
      "(50, 123)\n"
     ]
    },
    {
     "data": {
      "text/plain": [
       "array([[0., 0., 0., ..., 0., 0., 0.],\n",
       "       [0., 0., 0., ..., 0., 0., 0.],\n",
       "       [0., 0., 0., ..., 0., 0., 0.],\n",
       "       ...,\n",
       "       [0., 0., 0., ..., 0., 0., 0.],\n",
       "       [0., 0., 0., ..., 0., 0., 0.],\n",
       "       [0., 0., 0., ..., 0., 0., 0.]])"
      ]
     },
     "execution_count": 21,
     "metadata": {},
     "output_type": "execute_result"
    }
   ],
   "source": [
    "tf_idf_queries = tf_queries_npy * idf_npy\n",
    "print(tf_idf_queries.shape)\n",
    "tf_idf_queries"
   ]
  },
  {
   "cell_type": "markdown",
   "metadata": {},
   "source": [
    "# cosine similarity (doc, query)"
   ]
  },
  {
   "cell_type": "code",
   "execution_count": 22,
   "metadata": {},
   "outputs": [
    {
     "data": {
      "text/plain": [
       "array([[0.2952988 , 0.        , 0.        , ..., 0.        , 0.        ,\n",
       "        0.        ],\n",
       "       [0.0896808 , 0.        , 0.14697496, ..., 0.        , 0.        ,\n",
       "        0.05630288],\n",
       "       [0.02882332, 0.        , 0.        , ..., 0.        , 0.        ,\n",
       "        0.        ],\n",
       "       ...,\n",
       "       [0.01639428, 0.        , 0.        , ..., 0.        , 0.        ,\n",
       "        0.        ],\n",
       "       [0.        , 0.        , 0.        , ..., 0.        , 0.        ,\n",
       "        0.        ],\n",
       "       [0.06107356, 0.02859645, 0.        , ..., 0.        , 0.        ,\n",
       "        0.        ]])"
      ]
     },
     "execution_count": 22,
     "metadata": {},
     "output_type": "execute_result"
    }
   ],
   "source": [
    "cosine_npy = cosine_similarity(tf_idf_docs, tf_idf_queries)\n",
    "cosine_npy"
   ]
  },
  {
   "cell_type": "code",
   "execution_count": 23,
   "metadata": {
    "scrolled": true
   },
   "outputs": [
    {
     "data": {
      "text/plain": [
       "(4191, 50)"
      ]
     },
     "execution_count": 23,
     "metadata": {},
     "output_type": "execute_result"
    }
   ],
   "source": [
    "cosine_npy.shape"
   ]
  },
  {
   "cell_type": "markdown",
   "metadata": {},
   "source": [
    "# sort and export result"
   ]
  },
  {
   "cell_type": "code",
   "execution_count": 24,
   "metadata": {},
   "outputs": [
    {
     "data": {
      "text/html": [
       "<div>\n",
       "<style scoped>\n",
       "    .dataframe tbody tr th:only-of-type {\n",
       "        vertical-align: middle;\n",
       "    }\n",
       "\n",
       "    .dataframe tbody tr th {\n",
       "        vertical-align: top;\n",
       "    }\n",
       "\n",
       "    .dataframe thead th {\n",
       "        text-align: right;\n",
       "    }\n",
       "</style>\n",
       "<table border=\"1\" class=\"dataframe\">\n",
       "  <thead>\n",
       "    <tr style=\"text-align: right;\">\n",
       "      <th></th>\n",
       "      <th>301</th>\n",
       "      <th>302</th>\n",
       "      <th>303</th>\n",
       "      <th>304</th>\n",
       "      <th>305</th>\n",
       "      <th>306</th>\n",
       "      <th>307</th>\n",
       "      <th>308</th>\n",
       "      <th>309</th>\n",
       "      <th>310</th>\n",
       "      <th>...</th>\n",
       "      <th>341</th>\n",
       "      <th>342</th>\n",
       "      <th>343</th>\n",
       "      <th>344</th>\n",
       "      <th>345</th>\n",
       "      <th>346</th>\n",
       "      <th>347</th>\n",
       "      <th>348</th>\n",
       "      <th>349</th>\n",
       "      <th>350</th>\n",
       "    </tr>\n",
       "  </thead>\n",
       "  <tbody>\n",
       "    <tr>\n",
       "      <th>FBIS3-10082</th>\n",
       "      <td>0.295299</td>\n",
       "      <td>0.000000</td>\n",
       "      <td>0.000000</td>\n",
       "      <td>0.000000</td>\n",
       "      <td>0.000000</td>\n",
       "      <td>0.000000</td>\n",
       "      <td>0.000000</td>\n",
       "      <td>0.0</td>\n",
       "      <td>0.158497</td>\n",
       "      <td>0.000000</td>\n",
       "      <td>...</td>\n",
       "      <td>0.000000</td>\n",
       "      <td>0.000000</td>\n",
       "      <td>0.000000</td>\n",
       "      <td>0.0</td>\n",
       "      <td>0.000000</td>\n",
       "      <td>0.000000</td>\n",
       "      <td>0.0</td>\n",
       "      <td>0.0</td>\n",
       "      <td>0.0</td>\n",
       "      <td>0.000000</td>\n",
       "    </tr>\n",
       "    <tr>\n",
       "      <th>FBIS3-10231</th>\n",
       "      <td>0.089681</td>\n",
       "      <td>0.000000</td>\n",
       "      <td>0.146975</td>\n",
       "      <td>0.000000</td>\n",
       "      <td>0.096830</td>\n",
       "      <td>0.000000</td>\n",
       "      <td>0.106035</td>\n",
       "      <td>0.0</td>\n",
       "      <td>0.000000</td>\n",
       "      <td>0.000000</td>\n",
       "      <td>...</td>\n",
       "      <td>0.000000</td>\n",
       "      <td>0.000000</td>\n",
       "      <td>0.000000</td>\n",
       "      <td>0.0</td>\n",
       "      <td>0.000000</td>\n",
       "      <td>0.300916</td>\n",
       "      <td>0.0</td>\n",
       "      <td>0.0</td>\n",
       "      <td>0.0</td>\n",
       "      <td>0.056303</td>\n",
       "    </tr>\n",
       "    <tr>\n",
       "      <th>FBIS3-10243</th>\n",
       "      <td>0.028823</td>\n",
       "      <td>0.000000</td>\n",
       "      <td>0.000000</td>\n",
       "      <td>0.000000</td>\n",
       "      <td>0.000000</td>\n",
       "      <td>0.000000</td>\n",
       "      <td>0.000000</td>\n",
       "      <td>0.0</td>\n",
       "      <td>0.000000</td>\n",
       "      <td>0.000000</td>\n",
       "      <td>...</td>\n",
       "      <td>0.000000</td>\n",
       "      <td>0.000000</td>\n",
       "      <td>0.000000</td>\n",
       "      <td>0.0</td>\n",
       "      <td>0.000000</td>\n",
       "      <td>0.000000</td>\n",
       "      <td>0.0</td>\n",
       "      <td>0.0</td>\n",
       "      <td>0.0</td>\n",
       "      <td>0.000000</td>\n",
       "    </tr>\n",
       "    <tr>\n",
       "      <th>FBIS3-10285</th>\n",
       "      <td>0.031982</td>\n",
       "      <td>0.000000</td>\n",
       "      <td>0.020093</td>\n",
       "      <td>0.000000</td>\n",
       "      <td>0.000000</td>\n",
       "      <td>0.000000</td>\n",
       "      <td>0.000000</td>\n",
       "      <td>0.0</td>\n",
       "      <td>0.000000</td>\n",
       "      <td>0.000000</td>\n",
       "      <td>...</td>\n",
       "      <td>0.062294</td>\n",
       "      <td>0.000000</td>\n",
       "      <td>0.600987</td>\n",
       "      <td>0.0</td>\n",
       "      <td>0.000000</td>\n",
       "      <td>0.000000</td>\n",
       "      <td>0.0</td>\n",
       "      <td>0.0</td>\n",
       "      <td>0.0</td>\n",
       "      <td>0.000000</td>\n",
       "    </tr>\n",
       "    <tr>\n",
       "      <th>FBIS3-10291</th>\n",
       "      <td>0.192518</td>\n",
       "      <td>0.007943</td>\n",
       "      <td>0.073936</td>\n",
       "      <td>0.000000</td>\n",
       "      <td>0.049501</td>\n",
       "      <td>0.000000</td>\n",
       "      <td>0.333560</td>\n",
       "      <td>0.0</td>\n",
       "      <td>0.027315</td>\n",
       "      <td>0.009868</td>\n",
       "      <td>...</td>\n",
       "      <td>0.079348</td>\n",
       "      <td>0.013972</td>\n",
       "      <td>0.074425</td>\n",
       "      <td>0.0</td>\n",
       "      <td>0.000000</td>\n",
       "      <td>0.200773</td>\n",
       "      <td>0.0</td>\n",
       "      <td>0.0</td>\n",
       "      <td>0.0</td>\n",
       "      <td>0.043574</td>\n",
       "    </tr>\n",
       "    <tr>\n",
       "      <th>...</th>\n",
       "      <td>...</td>\n",
       "      <td>...</td>\n",
       "      <td>...</td>\n",
       "      <td>...</td>\n",
       "      <td>...</td>\n",
       "      <td>...</td>\n",
       "      <td>...</td>\n",
       "      <td>...</td>\n",
       "      <td>...</td>\n",
       "      <td>...</td>\n",
       "      <td>...</td>\n",
       "      <td>...</td>\n",
       "      <td>...</td>\n",
       "      <td>...</td>\n",
       "      <td>...</td>\n",
       "      <td>...</td>\n",
       "      <td>...</td>\n",
       "      <td>...</td>\n",
       "      <td>...</td>\n",
       "      <td>...</td>\n",
       "      <td>...</td>\n",
       "    </tr>\n",
       "    <tr>\n",
       "      <th>LA123090-0026</th>\n",
       "      <td>0.137243</td>\n",
       "      <td>0.333274</td>\n",
       "      <td>0.000000</td>\n",
       "      <td>0.000000</td>\n",
       "      <td>0.000000</td>\n",
       "      <td>0.000000</td>\n",
       "      <td>0.000000</td>\n",
       "      <td>0.0</td>\n",
       "      <td>0.000000</td>\n",
       "      <td>0.000000</td>\n",
       "      <td>...</td>\n",
       "      <td>0.000000</td>\n",
       "      <td>0.000000</td>\n",
       "      <td>0.000000</td>\n",
       "      <td>0.0</td>\n",
       "      <td>0.000000</td>\n",
       "      <td>0.000000</td>\n",
       "      <td>0.0</td>\n",
       "      <td>0.0</td>\n",
       "      <td>0.0</td>\n",
       "      <td>0.132122</td>\n",
       "    </tr>\n",
       "    <tr>\n",
       "      <th>LA123189-0136</th>\n",
       "      <td>0.000000</td>\n",
       "      <td>0.000000</td>\n",
       "      <td>0.000000</td>\n",
       "      <td>0.788064</td>\n",
       "      <td>0.000000</td>\n",
       "      <td>0.000000</td>\n",
       "      <td>0.000000</td>\n",
       "      <td>0.0</td>\n",
       "      <td>0.000000</td>\n",
       "      <td>0.000000</td>\n",
       "      <td>...</td>\n",
       "      <td>0.000000</td>\n",
       "      <td>0.000000</td>\n",
       "      <td>0.000000</td>\n",
       "      <td>0.0</td>\n",
       "      <td>0.000000</td>\n",
       "      <td>0.000000</td>\n",
       "      <td>0.0</td>\n",
       "      <td>0.0</td>\n",
       "      <td>0.0</td>\n",
       "      <td>0.000000</td>\n",
       "    </tr>\n",
       "    <tr>\n",
       "      <th>LA123190-0040</th>\n",
       "      <td>0.016394</td>\n",
       "      <td>0.000000</td>\n",
       "      <td>0.000000</td>\n",
       "      <td>0.000000</td>\n",
       "      <td>0.072423</td>\n",
       "      <td>0.072053</td>\n",
       "      <td>0.009517</td>\n",
       "      <td>0.0</td>\n",
       "      <td>0.008799</td>\n",
       "      <td>0.049235</td>\n",
       "      <td>...</td>\n",
       "      <td>0.025561</td>\n",
       "      <td>0.000000</td>\n",
       "      <td>0.444451</td>\n",
       "      <td>0.0</td>\n",
       "      <td>0.008083</td>\n",
       "      <td>0.028982</td>\n",
       "      <td>0.0</td>\n",
       "      <td>0.0</td>\n",
       "      <td>0.0</td>\n",
       "      <td>0.000000</td>\n",
       "    </tr>\n",
       "    <tr>\n",
       "      <th>LA123190-0062</th>\n",
       "      <td>0.000000</td>\n",
       "      <td>0.000000</td>\n",
       "      <td>0.000000</td>\n",
       "      <td>0.000000</td>\n",
       "      <td>0.000000</td>\n",
       "      <td>0.398024</td>\n",
       "      <td>0.000000</td>\n",
       "      <td>0.0</td>\n",
       "      <td>0.000000</td>\n",
       "      <td>0.000000</td>\n",
       "      <td>...</td>\n",
       "      <td>0.000000</td>\n",
       "      <td>0.000000</td>\n",
       "      <td>0.435956</td>\n",
       "      <td>0.0</td>\n",
       "      <td>0.000000</td>\n",
       "      <td>0.000000</td>\n",
       "      <td>0.0</td>\n",
       "      <td>0.0</td>\n",
       "      <td>0.0</td>\n",
       "      <td>0.000000</td>\n",
       "    </tr>\n",
       "    <tr>\n",
       "      <th>LA123190-0065</th>\n",
       "      <td>0.061074</td>\n",
       "      <td>0.028596</td>\n",
       "      <td>0.000000</td>\n",
       "      <td>0.000000</td>\n",
       "      <td>0.000000</td>\n",
       "      <td>0.071408</td>\n",
       "      <td>0.011818</td>\n",
       "      <td>0.0</td>\n",
       "      <td>0.032780</td>\n",
       "      <td>0.000000</td>\n",
       "      <td>...</td>\n",
       "      <td>0.000000</td>\n",
       "      <td>0.000000</td>\n",
       "      <td>0.721030</td>\n",
       "      <td>0.0</td>\n",
       "      <td>0.060222</td>\n",
       "      <td>0.000000</td>\n",
       "      <td>0.0</td>\n",
       "      <td>0.0</td>\n",
       "      <td>0.0</td>\n",
       "      <td>0.000000</td>\n",
       "    </tr>\n",
       "  </tbody>\n",
       "</table>\n",
       "<p>4191 rows × 50 columns</p>\n",
       "</div>"
      ],
      "text/plain": [
       "                    301       302       303       304       305       306  \\\n",
       "FBIS3-10082    0.295299  0.000000  0.000000  0.000000  0.000000  0.000000   \n",
       "FBIS3-10231    0.089681  0.000000  0.146975  0.000000  0.096830  0.000000   \n",
       "FBIS3-10243    0.028823  0.000000  0.000000  0.000000  0.000000  0.000000   \n",
       "FBIS3-10285    0.031982  0.000000  0.020093  0.000000  0.000000  0.000000   \n",
       "FBIS3-10291    0.192518  0.007943  0.073936  0.000000  0.049501  0.000000   \n",
       "...                 ...       ...       ...       ...       ...       ...   \n",
       "LA123090-0026  0.137243  0.333274  0.000000  0.000000  0.000000  0.000000   \n",
       "LA123189-0136  0.000000  0.000000  0.000000  0.788064  0.000000  0.000000   \n",
       "LA123190-0040  0.016394  0.000000  0.000000  0.000000  0.072423  0.072053   \n",
       "LA123190-0062  0.000000  0.000000  0.000000  0.000000  0.000000  0.398024   \n",
       "LA123190-0065  0.061074  0.028596  0.000000  0.000000  0.000000  0.071408   \n",
       "\n",
       "                    307  308       309       310  ...       341       342  \\\n",
       "FBIS3-10082    0.000000  0.0  0.158497  0.000000  ...  0.000000  0.000000   \n",
       "FBIS3-10231    0.106035  0.0  0.000000  0.000000  ...  0.000000  0.000000   \n",
       "FBIS3-10243    0.000000  0.0  0.000000  0.000000  ...  0.000000  0.000000   \n",
       "FBIS3-10285    0.000000  0.0  0.000000  0.000000  ...  0.062294  0.000000   \n",
       "FBIS3-10291    0.333560  0.0  0.027315  0.009868  ...  0.079348  0.013972   \n",
       "...                 ...  ...       ...       ...  ...       ...       ...   \n",
       "LA123090-0026  0.000000  0.0  0.000000  0.000000  ...  0.000000  0.000000   \n",
       "LA123189-0136  0.000000  0.0  0.000000  0.000000  ...  0.000000  0.000000   \n",
       "LA123190-0040  0.009517  0.0  0.008799  0.049235  ...  0.025561  0.000000   \n",
       "LA123190-0062  0.000000  0.0  0.000000  0.000000  ...  0.000000  0.000000   \n",
       "LA123190-0065  0.011818  0.0  0.032780  0.000000  ...  0.000000  0.000000   \n",
       "\n",
       "                    343  344       345       346  347  348  349       350  \n",
       "FBIS3-10082    0.000000  0.0  0.000000  0.000000  0.0  0.0  0.0  0.000000  \n",
       "FBIS3-10231    0.000000  0.0  0.000000  0.300916  0.0  0.0  0.0  0.056303  \n",
       "FBIS3-10243    0.000000  0.0  0.000000  0.000000  0.0  0.0  0.0  0.000000  \n",
       "FBIS3-10285    0.600987  0.0  0.000000  0.000000  0.0  0.0  0.0  0.000000  \n",
       "FBIS3-10291    0.074425  0.0  0.000000  0.200773  0.0  0.0  0.0  0.043574  \n",
       "...                 ...  ...       ...       ...  ...  ...  ...       ...  \n",
       "LA123090-0026  0.000000  0.0  0.000000  0.000000  0.0  0.0  0.0  0.132122  \n",
       "LA123189-0136  0.000000  0.0  0.000000  0.000000  0.0  0.0  0.0  0.000000  \n",
       "LA123190-0040  0.444451  0.0  0.008083  0.028982  0.0  0.0  0.0  0.000000  \n",
       "LA123190-0062  0.435956  0.0  0.000000  0.000000  0.0  0.0  0.0  0.000000  \n",
       "LA123190-0065  0.721030  0.0  0.060222  0.000000  0.0  0.0  0.0  0.000000  \n",
       "\n",
       "[4191 rows x 50 columns]"
      ]
     },
     "execution_count": 24,
     "metadata": {},
     "output_type": "execute_result"
    }
   ],
   "source": [
    "sim_df = pd.DataFrame(cosine_npy)\n",
    "sim_df.index = doc_list\n",
    "sim_df.columns = query_list\n",
    "sim_df"
   ]
  },
  {
   "cell_type": "code",
   "execution_count": 25,
   "metadata": {},
   "outputs": [
    {
     "name": "stdout",
     "output_type": "stream",
     "text": [
      "results/result_201025_1442.txt\n"
     ]
    }
   ],
   "source": [
    "# save results\n",
    "\n",
    "now = datetime.datetime.now()\n",
    "\n",
    "save_filename = 'results/result' + '_' + now.strftime(\"%y%m%d_%H%M\") + '.txt'\n",
    "\n",
    "print(save_filename)\n",
    "\n",
    "with open(save_filename, 'w') as f:\n",
    "    f.write('Query,RetrievedDocuments\\n')\n",
    "    for query in query_list:\n",
    "        f.write(query + \",\")\n",
    "        query_sim_df = sim_df[query].sort_values(ascending=False)\n",
    "        f.write(' '.join(query_sim_df.index.to_list()) + '\\n')"
   ]
  }
 ],
 "metadata": {
  "colab": {
   "authorship_tag": "ABX9TyPcwiGIVqyqGtwIXX6Z/vLu",
   "collapsed_sections": [],
   "mount_file_id": "1CTwyXCEw6o2l9m-Av3Dk1WS5QDgeSm4q",
   "name": "homework1.ipynb",
   "provenance": []
  },
  "kernelspec": {
   "display_name": "Python 3",
   "language": "python",
   "name": "python3"
  },
  "language_info": {
   "codemirror_mode": {
    "name": "ipython",
    "version": 3
   },
   "file_extension": ".py",
   "mimetype": "text/x-python",
   "name": "python",
   "nbconvert_exporter": "python",
   "pygments_lexer": "ipython3",
   "version": "3.7.4"
  },
  "pycharm": {
   "stem_cell": {
    "cell_type": "raw",
    "metadata": {
     "collapsed": false
    },
    "source": []
   }
  },
  "widgets": {
   "application/vnd.jupyter.widget-state+json": {
    "056b218619d94be5a0f469fe88a89c08": {
     "model_module": "@jupyter-widgets/controls",
     "model_name": "HTMLModel",
     "state": {
      "_dom_classes": [],
      "_model_module": "@jupyter-widgets/controls",
      "_model_module_version": "1.5.0",
      "_model_name": "HTMLModel",
      "_view_count": null,
      "_view_module": "@jupyter-widgets/controls",
      "_view_module_version": "1.5.0",
      "_view_name": "HTMLView",
      "description": "",
      "description_tooltip": null,
      "layout": "IPY_MODEL_c845cddaf1594d61929666e586751f85",
      "placeholder": "​",
      "style": "IPY_MODEL_a72a27c8c5f14c90b3b43dbc582119a8",
      "value": " 4191/4191 [21:38&lt;00:00,  3.23it/s]"
     }
    },
    "086800b9fa784dcdb41b57f3c080d656": {
     "model_module": "@jupyter-widgets/base",
     "model_name": "LayoutModel",
     "state": {
      "_model_module": "@jupyter-widgets/base",
      "_model_module_version": "1.2.0",
      "_model_name": "LayoutModel",
      "_view_count": null,
      "_view_module": "@jupyter-widgets/base",
      "_view_module_version": "1.2.0",
      "_view_name": "LayoutView",
      "align_content": null,
      "align_items": null,
      "align_self": null,
      "border": null,
      "bottom": null,
      "display": null,
      "flex": null,
      "flex_flow": null,
      "grid_area": null,
      "grid_auto_columns": null,
      "grid_auto_flow": null,
      "grid_auto_rows": null,
      "grid_column": null,
      "grid_gap": null,
      "grid_row": null,
      "grid_template_areas": null,
      "grid_template_columns": null,
      "grid_template_rows": null,
      "height": null,
      "justify_content": null,
      "justify_items": null,
      "left": null,
      "margin": null,
      "max_height": null,
      "max_width": null,
      "min_height": null,
      "min_width": null,
      "object_fit": null,
      "object_position": null,
      "order": null,
      "overflow": null,
      "overflow_x": null,
      "overflow_y": null,
      "padding": null,
      "right": null,
      "top": null,
      "visibility": null,
      "width": null
     }
    },
    "0de0e27abe7b4009b34d50ab20e25636": {
     "model_module": "@jupyter-widgets/controls",
     "model_name": "HTMLModel",
     "state": {
      "_dom_classes": [],
      "_model_module": "@jupyter-widgets/controls",
      "_model_module_version": "1.5.0",
      "_model_name": "HTMLModel",
      "_view_count": null,
      "_view_module": "@jupyter-widgets/controls",
      "_view_module_version": "1.5.0",
      "_view_name": "HTMLView",
      "description": "",
      "description_tooltip": null,
      "layout": "IPY_MODEL_15413875470149a4ad70ca6d506f1399",
      "placeholder": "​",
      "style": "IPY_MODEL_7955b7e6a0d04eb5a6eaea23e79a84e8",
      "value": " 59679/59679 [20:24&lt;00:00, 48.75it/s]"
     }
    },
    "15413875470149a4ad70ca6d506f1399": {
     "model_module": "@jupyter-widgets/base",
     "model_name": "LayoutModel",
     "state": {
      "_model_module": "@jupyter-widgets/base",
      "_model_module_version": "1.2.0",
      "_model_name": "LayoutModel",
      "_view_count": null,
      "_view_module": "@jupyter-widgets/base",
      "_view_module_version": "1.2.0",
      "_view_name": "LayoutView",
      "align_content": null,
      "align_items": null,
      "align_self": null,
      "border": null,
      "bottom": null,
      "display": null,
      "flex": null,
      "flex_flow": null,
      "grid_area": null,
      "grid_auto_columns": null,
      "grid_auto_flow": null,
      "grid_auto_rows": null,
      "grid_column": null,
      "grid_gap": null,
      "grid_row": null,
      "grid_template_areas": null,
      "grid_template_columns": null,
      "grid_template_rows": null,
      "height": null,
      "justify_content": null,
      "justify_items": null,
      "left": null,
      "margin": null,
      "max_height": null,
      "max_width": null,
      "min_height": null,
      "min_width": null,
      "object_fit": null,
      "object_position": null,
      "order": null,
      "overflow": null,
      "overflow_x": null,
      "overflow_y": null,
      "padding": null,
      "right": null,
      "top": null,
      "visibility": null,
      "width": null
     }
    },
    "18974e0bd617473badffe5ae5840f237": {
     "model_module": "@jupyter-widgets/base",
     "model_name": "LayoutModel",
     "state": {
      "_model_module": "@jupyter-widgets/base",
      "_model_module_version": "1.2.0",
      "_model_name": "LayoutModel",
      "_view_count": null,
      "_view_module": "@jupyter-widgets/base",
      "_view_module_version": "1.2.0",
      "_view_name": "LayoutView",
      "align_content": null,
      "align_items": null,
      "align_self": null,
      "border": null,
      "bottom": null,
      "display": null,
      "flex": null,
      "flex_flow": null,
      "grid_area": null,
      "grid_auto_columns": null,
      "grid_auto_flow": null,
      "grid_auto_rows": null,
      "grid_column": null,
      "grid_gap": null,
      "grid_row": null,
      "grid_template_areas": null,
      "grid_template_columns": null,
      "grid_template_rows": null,
      "height": null,
      "justify_content": null,
      "justify_items": null,
      "left": null,
      "margin": null,
      "max_height": null,
      "max_width": null,
      "min_height": null,
      "min_width": null,
      "object_fit": null,
      "object_position": null,
      "order": null,
      "overflow": null,
      "overflow_x": null,
      "overflow_y": null,
      "padding": null,
      "right": null,
      "top": null,
      "visibility": null,
      "width": null
     }
    },
    "22f3c52c357b45ff88a6fb2b2d20af1a": {
     "model_module": "@jupyter-widgets/controls",
     "model_name": "HTMLModel",
     "state": {
      "_dom_classes": [],
      "_model_module": "@jupyter-widgets/controls",
      "_model_module_version": "1.5.0",
      "_model_name": "HTMLModel",
      "_view_count": null,
      "_view_module": "@jupyter-widgets/controls",
      "_view_module_version": "1.5.0",
      "_view_name": "HTMLView",
      "description": "",
      "description_tooltip": null,
      "layout": "IPY_MODEL_7ae5dfbd496141278f9d26f14416803b",
      "placeholder": "​",
      "style": "IPY_MODEL_272f46884a11408fa6b4a42c8ef445c1",
      "value": " 4191/4191 [00:00&lt;00:00, 64131.54it/s]"
     }
    },
    "272f46884a11408fa6b4a42c8ef445c1": {
     "model_module": "@jupyter-widgets/controls",
     "model_name": "DescriptionStyleModel",
     "state": {
      "_model_module": "@jupyter-widgets/controls",
      "_model_module_version": "1.5.0",
      "_model_name": "DescriptionStyleModel",
      "_view_count": null,
      "_view_module": "@jupyter-widgets/base",
      "_view_module_version": "1.2.0",
      "_view_name": "StyleView",
      "description_width": ""
     }
    },
    "350fffa6924d47b9823fc4d33c7cadbc": {
     "model_module": "@jupyter-widgets/base",
     "model_name": "LayoutModel",
     "state": {
      "_model_module": "@jupyter-widgets/base",
      "_model_module_version": "1.2.0",
      "_model_name": "LayoutModel",
      "_view_count": null,
      "_view_module": "@jupyter-widgets/base",
      "_view_module_version": "1.2.0",
      "_view_name": "LayoutView",
      "align_content": null,
      "align_items": null,
      "align_self": null,
      "border": null,
      "bottom": null,
      "display": null,
      "flex": null,
      "flex_flow": null,
      "grid_area": null,
      "grid_auto_columns": null,
      "grid_auto_flow": null,
      "grid_auto_rows": null,
      "grid_column": null,
      "grid_gap": null,
      "grid_row": null,
      "grid_template_areas": null,
      "grid_template_columns": null,
      "grid_template_rows": null,
      "height": null,
      "justify_content": null,
      "justify_items": null,
      "left": null,
      "margin": null,
      "max_height": null,
      "max_width": null,
      "min_height": null,
      "min_width": null,
      "object_fit": null,
      "object_position": null,
      "order": null,
      "overflow": null,
      "overflow_x": null,
      "overflow_y": null,
      "padding": null,
      "right": null,
      "top": null,
      "visibility": null,
      "width": null
     }
    },
    "37f2f415c66d445882d30aaa9f46b3c4": {
     "model_module": "@jupyter-widgets/controls",
     "model_name": "ProgressStyleModel",
     "state": {
      "_model_module": "@jupyter-widgets/controls",
      "_model_module_version": "1.5.0",
      "_model_name": "ProgressStyleModel",
      "_view_count": null,
      "_view_module": "@jupyter-widgets/base",
      "_view_module_version": "1.2.0",
      "_view_name": "StyleView",
      "bar_color": null,
      "description_width": "initial"
     }
    },
    "4681f63661c44a7681bc0e7a67566cf0": {
     "model_module": "@jupyter-widgets/controls",
     "model_name": "HBoxModel",
     "state": {
      "_dom_classes": [],
      "_model_module": "@jupyter-widgets/controls",
      "_model_module_version": "1.5.0",
      "_model_name": "HBoxModel",
      "_view_count": null,
      "_view_module": "@jupyter-widgets/controls",
      "_view_module_version": "1.5.0",
      "_view_name": "HBoxView",
      "box_style": "",
      "children": [
       "IPY_MODEL_f35f37f345bb4f4ba49488f3ed24baf1",
       "IPY_MODEL_056b218619d94be5a0f469fe88a89c08"
      ],
      "layout": "IPY_MODEL_f33739af70d34b48ba5d5d28368ca773"
     }
    },
    "63b788278dde411d886d14bbe3323cae": {
     "model_module": "@jupyter-widgets/controls",
     "model_name": "HBoxModel",
     "state": {
      "_dom_classes": [],
      "_model_module": "@jupyter-widgets/controls",
      "_model_module_version": "1.5.0",
      "_model_name": "HBoxModel",
      "_view_count": null,
      "_view_module": "@jupyter-widgets/controls",
      "_view_module_version": "1.5.0",
      "_view_name": "HBoxView",
      "box_style": "",
      "children": [
       "IPY_MODEL_ce522ce436e44704bdc1d4c2b8dcff23",
       "IPY_MODEL_0de0e27abe7b4009b34d50ab20e25636"
      ],
      "layout": "IPY_MODEL_350fffa6924d47b9823fc4d33c7cadbc"
     }
    },
    "711f86a0f6894ad58a29b1d8ff705bd1": {
     "model_module": "@jupyter-widgets/base",
     "model_name": "LayoutModel",
     "state": {
      "_model_module": "@jupyter-widgets/base",
      "_model_module_version": "1.2.0",
      "_model_name": "LayoutModel",
      "_view_count": null,
      "_view_module": "@jupyter-widgets/base",
      "_view_module_version": "1.2.0",
      "_view_name": "LayoutView",
      "align_content": null,
      "align_items": null,
      "align_self": null,
      "border": null,
      "bottom": null,
      "display": null,
      "flex": null,
      "flex_flow": null,
      "grid_area": null,
      "grid_auto_columns": null,
      "grid_auto_flow": null,
      "grid_auto_rows": null,
      "grid_column": null,
      "grid_gap": null,
      "grid_row": null,
      "grid_template_areas": null,
      "grid_template_columns": null,
      "grid_template_rows": null,
      "height": null,
      "justify_content": null,
      "justify_items": null,
      "left": null,
      "margin": null,
      "max_height": null,
      "max_width": null,
      "min_height": null,
      "min_width": null,
      "object_fit": null,
      "object_position": null,
      "order": null,
      "overflow": null,
      "overflow_x": null,
      "overflow_y": null,
      "padding": null,
      "right": null,
      "top": null,
      "visibility": null,
      "width": null
     }
    },
    "7955b7e6a0d04eb5a6eaea23e79a84e8": {
     "model_module": "@jupyter-widgets/controls",
     "model_name": "DescriptionStyleModel",
     "state": {
      "_model_module": "@jupyter-widgets/controls",
      "_model_module_version": "1.5.0",
      "_model_name": "DescriptionStyleModel",
      "_view_count": null,
      "_view_module": "@jupyter-widgets/base",
      "_view_module_version": "1.2.0",
      "_view_name": "StyleView",
      "description_width": ""
     }
    },
    "7ae5dfbd496141278f9d26f14416803b": {
     "model_module": "@jupyter-widgets/base",
     "model_name": "LayoutModel",
     "state": {
      "_model_module": "@jupyter-widgets/base",
      "_model_module_version": "1.2.0",
      "_model_name": "LayoutModel",
      "_view_count": null,
      "_view_module": "@jupyter-widgets/base",
      "_view_module_version": "1.2.0",
      "_view_name": "LayoutView",
      "align_content": null,
      "align_items": null,
      "align_self": null,
      "border": null,
      "bottom": null,
      "display": null,
      "flex": null,
      "flex_flow": null,
      "grid_area": null,
      "grid_auto_columns": null,
      "grid_auto_flow": null,
      "grid_auto_rows": null,
      "grid_column": null,
      "grid_gap": null,
      "grid_row": null,
      "grid_template_areas": null,
      "grid_template_columns": null,
      "grid_template_rows": null,
      "height": null,
      "justify_content": null,
      "justify_items": null,
      "left": null,
      "margin": null,
      "max_height": null,
      "max_width": null,
      "min_height": null,
      "min_width": null,
      "object_fit": null,
      "object_position": null,
      "order": null,
      "overflow": null,
      "overflow_x": null,
      "overflow_y": null,
      "padding": null,
      "right": null,
      "top": null,
      "visibility": null,
      "width": null
     }
    },
    "808df98dfbd8403da166fab640818b78": {
     "model_module": "@jupyter-widgets/controls",
     "model_name": "HBoxModel",
     "state": {
      "_dom_classes": [],
      "_model_module": "@jupyter-widgets/controls",
      "_model_module_version": "1.5.0",
      "_model_name": "HBoxModel",
      "_view_count": null,
      "_view_module": "@jupyter-widgets/controls",
      "_view_module_version": "1.5.0",
      "_view_name": "HBoxView",
      "box_style": "",
      "children": [
       "IPY_MODEL_cbfb7a01bca2464cb7480bd8fb265287",
       "IPY_MODEL_22f3c52c357b45ff88a6fb2b2d20af1a"
      ],
      "layout": "IPY_MODEL_086800b9fa784dcdb41b57f3c080d656"
     }
    },
    "89350b5c5cb8407389607cdbf49db21d": {
     "model_module": "@jupyter-widgets/controls",
     "model_name": "ProgressStyleModel",
     "state": {
      "_model_module": "@jupyter-widgets/controls",
      "_model_module_version": "1.5.0",
      "_model_name": "ProgressStyleModel",
      "_view_count": null,
      "_view_module": "@jupyter-widgets/base",
      "_view_module_version": "1.2.0",
      "_view_name": "StyleView",
      "bar_color": null,
      "description_width": "initial"
     }
    },
    "a72a27c8c5f14c90b3b43dbc582119a8": {
     "model_module": "@jupyter-widgets/controls",
     "model_name": "DescriptionStyleModel",
     "state": {
      "_model_module": "@jupyter-widgets/controls",
      "_model_module_version": "1.5.0",
      "_model_name": "DescriptionStyleModel",
      "_view_count": null,
      "_view_module": "@jupyter-widgets/base",
      "_view_module_version": "1.2.0",
      "_view_name": "StyleView",
      "description_width": ""
     }
    },
    "c845cddaf1594d61929666e586751f85": {
     "model_module": "@jupyter-widgets/base",
     "model_name": "LayoutModel",
     "state": {
      "_model_module": "@jupyter-widgets/base",
      "_model_module_version": "1.2.0",
      "_model_name": "LayoutModel",
      "_view_count": null,
      "_view_module": "@jupyter-widgets/base",
      "_view_module_version": "1.2.0",
      "_view_name": "LayoutView",
      "align_content": null,
      "align_items": null,
      "align_self": null,
      "border": null,
      "bottom": null,
      "display": null,
      "flex": null,
      "flex_flow": null,
      "grid_area": null,
      "grid_auto_columns": null,
      "grid_auto_flow": null,
      "grid_auto_rows": null,
      "grid_column": null,
      "grid_gap": null,
      "grid_row": null,
      "grid_template_areas": null,
      "grid_template_columns": null,
      "grid_template_rows": null,
      "height": null,
      "justify_content": null,
      "justify_items": null,
      "left": null,
      "margin": null,
      "max_height": null,
      "max_width": null,
      "min_height": null,
      "min_width": null,
      "object_fit": null,
      "object_position": null,
      "order": null,
      "overflow": null,
      "overflow_x": null,
      "overflow_y": null,
      "padding": null,
      "right": null,
      "top": null,
      "visibility": null,
      "width": null
     }
    },
    "cbfb7a01bca2464cb7480bd8fb265287": {
     "model_module": "@jupyter-widgets/controls",
     "model_name": "FloatProgressModel",
     "state": {
      "_dom_classes": [],
      "_model_module": "@jupyter-widgets/controls",
      "_model_module_version": "1.5.0",
      "_model_name": "FloatProgressModel",
      "_view_count": null,
      "_view_module": "@jupyter-widgets/controls",
      "_view_module_version": "1.5.0",
      "_view_name": "ProgressView",
      "bar_style": "success",
      "description": "100%",
      "description_tooltip": null,
      "layout": "IPY_MODEL_18974e0bd617473badffe5ae5840f237",
      "max": 4191,
      "min": 0,
      "orientation": "horizontal",
      "style": "IPY_MODEL_37f2f415c66d445882d30aaa9f46b3c4",
      "value": 4191
     }
    },
    "ce522ce436e44704bdc1d4c2b8dcff23": {
     "model_module": "@jupyter-widgets/controls",
     "model_name": "FloatProgressModel",
     "state": {
      "_dom_classes": [],
      "_model_module": "@jupyter-widgets/controls",
      "_model_module_version": "1.5.0",
      "_model_name": "FloatProgressModel",
      "_view_count": null,
      "_view_module": "@jupyter-widgets/controls",
      "_view_module_version": "1.5.0",
      "_view_name": "ProgressView",
      "bar_style": "success",
      "description": "100%",
      "description_tooltip": null,
      "layout": "IPY_MODEL_e4d42e7d533c4e008c64631c57495ddc",
      "max": 59679,
      "min": 0,
      "orientation": "horizontal",
      "style": "IPY_MODEL_cf954c93104e4da3863e7c565113f51d",
      "value": 59679
     }
    },
    "cf954c93104e4da3863e7c565113f51d": {
     "model_module": "@jupyter-widgets/controls",
     "model_name": "ProgressStyleModel",
     "state": {
      "_model_module": "@jupyter-widgets/controls",
      "_model_module_version": "1.5.0",
      "_model_name": "ProgressStyleModel",
      "_view_count": null,
      "_view_module": "@jupyter-widgets/base",
      "_view_module_version": "1.2.0",
      "_view_name": "StyleView",
      "bar_color": null,
      "description_width": "initial"
     }
    },
    "e4d42e7d533c4e008c64631c57495ddc": {
     "model_module": "@jupyter-widgets/base",
     "model_name": "LayoutModel",
     "state": {
      "_model_module": "@jupyter-widgets/base",
      "_model_module_version": "1.2.0",
      "_model_name": "LayoutModel",
      "_view_count": null,
      "_view_module": "@jupyter-widgets/base",
      "_view_module_version": "1.2.0",
      "_view_name": "LayoutView",
      "align_content": null,
      "align_items": null,
      "align_self": null,
      "border": null,
      "bottom": null,
      "display": null,
      "flex": null,
      "flex_flow": null,
      "grid_area": null,
      "grid_auto_columns": null,
      "grid_auto_flow": null,
      "grid_auto_rows": null,
      "grid_column": null,
      "grid_gap": null,
      "grid_row": null,
      "grid_template_areas": null,
      "grid_template_columns": null,
      "grid_template_rows": null,
      "height": null,
      "justify_content": null,
      "justify_items": null,
      "left": null,
      "margin": null,
      "max_height": null,
      "max_width": null,
      "min_height": null,
      "min_width": null,
      "object_fit": null,
      "object_position": null,
      "order": null,
      "overflow": null,
      "overflow_x": null,
      "overflow_y": null,
      "padding": null,
      "right": null,
      "top": null,
      "visibility": null,
      "width": null
     }
    },
    "f33739af70d34b48ba5d5d28368ca773": {
     "model_module": "@jupyter-widgets/base",
     "model_name": "LayoutModel",
     "state": {
      "_model_module": "@jupyter-widgets/base",
      "_model_module_version": "1.2.0",
      "_model_name": "LayoutModel",
      "_view_count": null,
      "_view_module": "@jupyter-widgets/base",
      "_view_module_version": "1.2.0",
      "_view_name": "LayoutView",
      "align_content": null,
      "align_items": null,
      "align_self": null,
      "border": null,
      "bottom": null,
      "display": null,
      "flex": null,
      "flex_flow": null,
      "grid_area": null,
      "grid_auto_columns": null,
      "grid_auto_flow": null,
      "grid_auto_rows": null,
      "grid_column": null,
      "grid_gap": null,
      "grid_row": null,
      "grid_template_areas": null,
      "grid_template_columns": null,
      "grid_template_rows": null,
      "height": null,
      "justify_content": null,
      "justify_items": null,
      "left": null,
      "margin": null,
      "max_height": null,
      "max_width": null,
      "min_height": null,
      "min_width": null,
      "object_fit": null,
      "object_position": null,
      "order": null,
      "overflow": null,
      "overflow_x": null,
      "overflow_y": null,
      "padding": null,
      "right": null,
      "top": null,
      "visibility": null,
      "width": null
     }
    },
    "f35f37f345bb4f4ba49488f3ed24baf1": {
     "model_module": "@jupyter-widgets/controls",
     "model_name": "FloatProgressModel",
     "state": {
      "_dom_classes": [],
      "_model_module": "@jupyter-widgets/controls",
      "_model_module_version": "1.5.0",
      "_model_name": "FloatProgressModel",
      "_view_count": null,
      "_view_module": "@jupyter-widgets/controls",
      "_view_module_version": "1.5.0",
      "_view_name": "ProgressView",
      "bar_style": "success",
      "description": "100%",
      "description_tooltip": null,
      "layout": "IPY_MODEL_711f86a0f6894ad58a29b1d8ff705bd1",
      "max": 4191,
      "min": 0,
      "orientation": "horizontal",
      "style": "IPY_MODEL_89350b5c5cb8407389607cdbf49db21d",
      "value": 4191
     }
    }
   }
  }
 },
 "nbformat": 4,
 "nbformat_minor": 1
}
