{
 "cells": [
  {
   "cell_type": "code",
   "execution_count": null,
   "metadata": {
    "executionInfo": {
     "elapsed": 792,
     "status": "ok",
     "timestamp": 1603186973104,
     "user": {
      "displayName": "Chia Chun Ho",
      "photoUrl": "https://lh3.googleusercontent.com/a-/AOh14Gg6vqeGIn5Yecr3_hyMDeO640oB8yQrqPOJGU1t_A=s64",
      "userId": "06673172577965463232"
     },
     "user_tz": -480
    },
    "id": "W-N_0C-zgowC",
    "pycharm": {
     "is_executing": false
    }
   },
   "outputs": [],
   "source": [
    "import datetime\n",
    "import numpy as np\n",
    "import pandas as pd\n",
    "from tqdm import tqdm"
   ]
  },
  {
   "cell_type": "markdown",
   "metadata": {},
   "source": [
    "# Load file"
   ]
  },
  {
   "cell_type": "code",
   "execution_count": null,
   "metadata": {
    "executionInfo": {
     "elapsed": 644,
     "status": "ok",
     "timestamp": 1603186973106,
     "user": {
      "displayName": "Chia Chun Ho",
      "photoUrl": "https://lh3.googleusercontent.com/a-/AOh14Gg6vqeGIn5Yecr3_hyMDeO640oB8yQrqPOJGU1t_A=s64",
      "userId": "06673172577965463232"
     },
     "user_tz": -480
    },
    "id": "PwLk8pYGoiKR",
    "pycharm": {
     "is_executing": false
    }
   },
   "outputs": [],
   "source": [
    "# load doc list\n",
    "with open('doc_list.txt') as f:\n",
    "    doc_list = f.read().splitlines()"
   ]
  },
  {
   "cell_type": "code",
   "execution_count": null,
   "metadata": {
    "colab": {
     "base_uri": "https://localhost:8080/",
     "height": 67,
     "referenced_widgets": [
      "4681f63661c44a7681bc0e7a67566cf0",
      "f33739af70d34b48ba5d5d28368ca773",
      "f35f37f345bb4f4ba49488f3ed24baf1",
      "056b218619d94be5a0f469fe88a89c08",
      "89350b5c5cb8407389607cdbf49db21d",
      "711f86a0f6894ad58a29b1d8ff705bd1",
      "a72a27c8c5f14c90b3b43dbc582119a8",
      "c845cddaf1594d61929666e586751f85"
     ]
    },
    "executionInfo": {
     "elapsed": 8296,
     "status": "ok",
     "timestamp": 1603186980933,
     "user": {
      "displayName": "Chia Chun Ho",
      "photoUrl": "https://lh3.googleusercontent.com/a-/AOh14Gg6vqeGIn5Yecr3_hyMDeO640oB8yQrqPOJGU1t_A=s64",
      "userId": "06673172577965463232"
     },
     "user_tz": -480
    },
    "id": "HmDs-1-Zn9Jq",
    "outputId": "9191b597-416d-43b7-b04d-3dac11322a6a",
    "pycharm": {
     "is_executing": false
    }
   },
   "outputs": [],
   "source": [
    "# load doc from list\n",
    "docs = {}\n",
    "words = set()\n",
    "for doc in tqdm(doc_list):\n",
    "    with open('docs/' + doc + '.txt') as f:\n",
    "        data = f.read()\n",
    "        docs[doc] = data.split()\n",
    "#         words = words.union(set(docs[doc]))"
   ]
  },
  {
   "cell_type": "code",
   "execution_count": null,
   "metadata": {},
   "outputs": [],
   "source": [
    "# load query list\n",
    "with open('query_list.txt') as f:\n",
    "    query_list = f.read().splitlines()"
   ]
  },
  {
   "cell_type": "code",
   "execution_count": null,
   "metadata": {},
   "outputs": [],
   "source": [
    "# load query from list\n",
    "queries = {}\n",
    "for query in tqdm(query_list):\n",
    "    with open('queries/' + query + '.txt') as f:\n",
    "        data = f.read()\n",
    "        queries[query] = data.split()\n",
    "        words = words.union(set(queries[query]))"
   ]
  },
  {
   "cell_type": "markdown",
   "metadata": {},
   "source": [
    "# Dictionary save / load"
   ]
  },
  {
   "cell_type": "code",
   "execution_count": null,
   "metadata": {
    "executionInfo": {
     "elapsed": 8192,
     "status": "ok",
     "timestamp": 1603186980936,
     "user": {
      "displayName": "Chia Chun Ho",
      "photoUrl": "https://lh3.googleusercontent.com/a-/AOh14Gg6vqeGIn5Yecr3_hyMDeO640oB8yQrqPOJGU1t_A=s64",
      "userId": "06673172577965463232"
     },
     "user_tz": -480
    },
    "id": "ZudAMmV6gnyx"
   },
   "outputs": [],
   "source": [
    "# save words\n",
    "with open('min_word_list.txt', 'w') as f:\n",
    "    f.write(' '.join(words))\n",
    "    \n",
    "words = list(words)"
   ]
  },
  {
   "cell_type": "code",
   "execution_count": null,
   "metadata": {
    "executionInfo": {
     "elapsed": 1095,
     "status": "ok",
     "timestamp": 1603187043593,
     "user": {
      "displayName": "Chia Chun Ho",
      "photoUrl": "https://lh3.googleusercontent.com/a-/AOh14Gg6vqeGIn5Yecr3_hyMDeO640oB8yQrqPOJGU1t_A=s64",
      "userId": "06673172577965463232"
     },
     "user_tz": -480
    },
    "id": "tY6UsEPQn6N_"
   },
   "outputs": [],
   "source": [
    "# load words dict from file\n",
    "with open('min_word_list.txt') as f:\n",
    "    words = f.read().split()"
   ]
  },
  {
   "cell_type": "code",
   "execution_count": null,
   "metadata": {
    "colab": {
     "base_uri": "https://localhost:8080/",
     "height": 1000
    },
    "executionInfo": {
     "elapsed": 578,
     "status": "ok",
     "timestamp": 1603187045208,
     "user": {
      "displayName": "Chia Chun Ho",
      "photoUrl": "https://lh3.googleusercontent.com/a-/AOh14Gg6vqeGIn5Yecr3_hyMDeO640oB8yQrqPOJGU1t_A=s64",
      "userId": "06673172577965463232"
     },
     "user_tz": -480
    },
    "id": "WK2vFxPqZNZw",
    "outputId": "ab97101f-9f86-4348-a387-b03a1de60502"
   },
   "outputs": [],
   "source": [
    "print(len(words))"
   ]
  },
  {
   "cell_type": "markdown",
   "metadata": {},
   "source": [
    "# Calculate docment-tf, query-tf, df, idf"
   ]
  },
  {
   "cell_type": "code",
   "execution_count": null,
   "metadata": {},
   "outputs": [],
   "source": [
    "# term frequency in document\n",
    "\n",
    "tf_docs_list = []\n",
    "\n",
    "for content in tqdm(docs.values()):\n",
    "    tf_doc = []\n",
    "    for word in words:\n",
    "        tf_doc.append(content.count(word))\n",
    "    tf_docs_list.append(tf_doc)"
   ]
  },
  {
   "cell_type": "code",
   "execution_count": null,
   "metadata": {},
   "outputs": [],
   "source": [
    "tf_docs_npy = np.array(tf_docs_list)\n",
    "np.save('min_tf_docs_npy', tf_docs_npy)\n",
    "tf_docs_npy"
   ]
  },
  {
   "cell_type": "code",
   "execution_count": null,
   "metadata": {},
   "outputs": [],
   "source": [
    "# document frequency\n",
    "\n",
    "df_list = []\n",
    "\n",
    "for word in tqdm(words):\n",
    "    count = 0\n",
    "    for content in docs.values():\n",
    "        if word in content:\n",
    "            count += 1\n",
    "    df_list.append(count)"
   ]
  },
  {
   "cell_type": "code",
   "execution_count": null,
   "metadata": {},
   "outputs": [],
   "source": [
    "df_npy = np.array(df_list)\n",
    "np.save('min_df_npy', df_npy)\n",
    "df_npy"
   ]
  },
  {
   "cell_type": "code",
   "execution_count": null,
   "metadata": {},
   "outputs": [],
   "source": [
    "# term frequency in query\n",
    "\n",
    "tf_queries_list = []\n",
    "\n",
    "for content in tqdm(queries.values()):\n",
    "    tf_query = []\n",
    "    for word in words:\n",
    "        tf_query.append(content.count(word))\n",
    "    tf_queries_list.append(tf_query)"
   ]
  },
  {
   "cell_type": "code",
   "execution_count": null,
   "metadata": {},
   "outputs": [],
   "source": [
    "tf_queries_npy = np.array(tf_queries_list)\n",
    "np.save('min_tf_queries_npy', tf_queries_npy)\n",
    "tf_queries_npy"
   ]
  },
  {
   "cell_type": "code",
   "execution_count": null,
   "metadata": {
    "id": "hC4ZfTun8Ork"
   },
   "outputs": [],
   "source": [
    "# inverse document frequency\n",
    "\n",
    "idf = []\n",
    "docs_len = len(docs)\n",
    "\n",
    "for df in tqdm(df_npy):\n",
    "    idf.append(np.log((docs_len - df + 0.5) / (df + 0.5)))"
   ]
  },
  {
   "cell_type": "code",
   "execution_count": null,
   "metadata": {},
   "outputs": [],
   "source": [
    "idf_npy = np.array(idf)\n",
    "np.save('min_idf_npy', idf_npy)\n",
    "idf_npy"
   ]
  },
  {
   "cell_type": "markdown",
   "metadata": {},
   "source": [
    "# Load calculated matrix (save calculate time)"
   ]
  },
  {
   "cell_type": "code",
   "execution_count": null,
   "metadata": {},
   "outputs": [],
   "source": [
    "tf_docs_npy = np.load('min_tf_docs_npy.npy')\n",
    "tf_queries_npy = np.load('min_tf_queries_npy.npy')\n",
    "df_npy = np.load('min_df_npy.npy')\n",
    "idf_npy = np.load('min_idf_npy.npy')"
   ]
  },
  {
   "cell_type": "code",
   "execution_count": null,
   "metadata": {
    "scrolled": true
   },
   "outputs": [],
   "source": [
    "print(tf_docs_npy.shape, tf_queries_npy.shape, df_npy.shape, idf_npy.shape)"
   ]
  },
  {
   "cell_type": "markdown",
   "metadata": {},
   "source": [
    "# BM25 calculate"
   ]
  },
  {
   "cell_type": "code",
   "execution_count": null,
   "metadata": {},
   "outputs": [],
   "source": [
    "K1 = 0.28\n",
    "K3 = 1000\n",
    "b = 0.85"
   ]
  },
  {
   "cell_type": "code",
   "execution_count": null,
   "metadata": {},
   "outputs": [],
   "source": [
    "avg_doclen = 0\n",
    "for doc in docs.values():\n",
    "    avg_doclen += len(doc)\n",
    "avg_doclen /= len(docs)\n",
    "\n",
    "avg_doclen"
   ]
  },
  {
   "cell_type": "code",
   "execution_count": null,
   "metadata": {
    "tags": []
   },
   "outputs": [],
   "source": [
    "queries_result = []\n",
    "\n",
    "for query_id, query in tqdm(queries.items()):\n",
    "    query_result = []\n",
    "    query_index = query_list.index(query_id)\n",
    "    for doc_name, doc_content in docs.items():\n",
    "        bm25_weight = 0\n",
    "        doc_index = doc_list.index(doc_name)\n",
    "        doc_len = len(doc_content)\n",
    "        for word in query:\n",
    "            word_index = words.index(word)\n",
    "            tf_ij = tf_docs_npy[doc_index][word_index]\n",
    "            tf_iq = tf_queries_npy[query_index][word_index]\n",
    "            idf_i = idf_npy[word_index]\n",
    "            single_term_weight = idf_i * (K1 + 1) * tf_ij / (tf_ij + K1 * ((1 - b) + b * doc_len / avg_doclen)) # * (K3 + 1) * tf_iq / (K3 + tf_iq)\n",
    "            bm25_weight += single_term_weight\n",
    "        query_result.append(bm25_weight)\n",
    "    queries_result.append(query_result)"
   ]
  },
  {
   "cell_type": "markdown",
   "metadata": {},
   "source": [
    "# sort and export result"
   ]
  },
  {
   "cell_type": "code",
   "execution_count": null,
   "metadata": {},
   "outputs": [],
   "source": [
    "sim_df = pd.DataFrame(queries_result)\n",
    "sim_df = sim_df.transpose()\n",
    "sim_df.index = doc_list\n",
    "sim_df.columns = query_list\n",
    "sim_df"
   ]
  },
  {
   "cell_type": "code",
   "execution_count": null,
   "metadata": {},
   "outputs": [],
   "source": [
    "# save results\n",
    "\n",
    "now = datetime.datetime.now()\n",
    "\n",
    "save_filename = 'results/result' + '_' + now.strftime(\"%y%m%d_%H%M\") + '.txt'\n",
    "\n",
    "print(save_filename)\n",
    "\n",
    "with open(save_filename, 'w') as f:\n",
    "    f.write('Query,RetrievedDocuments\\n')\n",
    "    for query in query_list:\n",
    "        f.write(query + \",\")\n",
    "        query_sim_df = sim_df[query].sort_values(ascending=False)\n",
    "        f.write(' '.join(query_sim_df.index.to_list()) + '\\n')"
   ]
  },
  {
   "cell_type": "code",
   "execution_count": null,
   "metadata": {},
   "outputs": [],
   "source": []
  }
 ],
 "metadata": {
  "colab": {
   "authorship_tag": "ABX9TyPcwiGIVqyqGtwIXX6Z/vLu",
   "collapsed_sections": [],
   "mount_file_id": "1CTwyXCEw6o2l9m-Av3Dk1WS5QDgeSm4q",
   "name": "homework1.ipynb",
   "provenance": []
  },
  "kernelspec": {
   "display_name": "Python 3",
   "language": "python",
   "name": "python3"
  },
  "language_info": {
   "codemirror_mode": {
    "name": "ipython",
    "version": 3
   },
   "file_extension": ".py",
   "mimetype": "text/x-python",
   "name": "python",
   "nbconvert_exporter": "python",
   "pygments_lexer": "ipython3",
   "version": "3.7.4-final"
  },
  "pycharm": {
   "stem_cell": {
    "cell_type": "raw",
    "metadata": {
     "collapsed": false
    },
    "source": []
   }
  },
  "widgets": {
   "application/vnd.jupyter.widget-state+json": {
    "056b218619d94be5a0f469fe88a89c08": {
     "model_module": "@jupyter-widgets/controls",
     "model_name": "HTMLModel",
     "state": {
      "_dom_classes": [],
      "_model_module": "@jupyter-widgets/controls",
      "_model_module_version": "1.5.0",
      "_model_name": "HTMLModel",
      "_view_count": null,
      "_view_module": "@jupyter-widgets/controls",
      "_view_module_version": "1.5.0",
      "_view_name": "HTMLView",
      "description": "",
      "description_tooltip": null,
      "layout": "IPY_MODEL_c845cddaf1594d61929666e586751f85",
      "placeholder": "​",
      "style": "IPY_MODEL_a72a27c8c5f14c90b3b43dbc582119a8",
      "value": " 4191/4191 [21:38&lt;00:00,  3.23it/s]"
     }
    },
    "086800b9fa784dcdb41b57f3c080d656": {
     "model_module": "@jupyter-widgets/base",
     "model_name": "LayoutModel",
     "state": {
      "_model_module": "@jupyter-widgets/base",
      "_model_module_version": "1.2.0",
      "_model_name": "LayoutModel",
      "_view_count": null,
      "_view_module": "@jupyter-widgets/base",
      "_view_module_version": "1.2.0",
      "_view_name": "LayoutView",
      "align_content": null,
      "align_items": null,
      "align_self": null,
      "border": null,
      "bottom": null,
      "display": null,
      "flex": null,
      "flex_flow": null,
      "grid_area": null,
      "grid_auto_columns": null,
      "grid_auto_flow": null,
      "grid_auto_rows": null,
      "grid_column": null,
      "grid_gap": null,
      "grid_row": null,
      "grid_template_areas": null,
      "grid_template_columns": null,
      "grid_template_rows": null,
      "height": null,
      "justify_content": null,
      "justify_items": null,
      "left": null,
      "margin": null,
      "max_height": null,
      "max_width": null,
      "min_height": null,
      "min_width": null,
      "object_fit": null,
      "object_position": null,
      "order": null,
      "overflow": null,
      "overflow_x": null,
      "overflow_y": null,
      "padding": null,
      "right": null,
      "top": null,
      "visibility": null,
      "width": null
     }
    },
    "0de0e27abe7b4009b34d50ab20e25636": {
     "model_module": "@jupyter-widgets/controls",
     "model_name": "HTMLModel",
     "state": {
      "_dom_classes": [],
      "_model_module": "@jupyter-widgets/controls",
      "_model_module_version": "1.5.0",
      "_model_name": "HTMLModel",
      "_view_count": null,
      "_view_module": "@jupyter-widgets/controls",
      "_view_module_version": "1.5.0",
      "_view_name": "HTMLView",
      "description": "",
      "description_tooltip": null,
      "layout": "IPY_MODEL_15413875470149a4ad70ca6d506f1399",
      "placeholder": "​",
      "style": "IPY_MODEL_7955b7e6a0d04eb5a6eaea23e79a84e8",
      "value": " 59679/59679 [20:24&lt;00:00, 48.75it/s]"
     }
    },
    "15413875470149a4ad70ca6d506f1399": {
     "model_module": "@jupyter-widgets/base",
     "model_name": "LayoutModel",
     "state": {
      "_model_module": "@jupyter-widgets/base",
      "_model_module_version": "1.2.0",
      "_model_name": "LayoutModel",
      "_view_count": null,
      "_view_module": "@jupyter-widgets/base",
      "_view_module_version": "1.2.0",
      "_view_name": "LayoutView",
      "align_content": null,
      "align_items": null,
      "align_self": null,
      "border": null,
      "bottom": null,
      "display": null,
      "flex": null,
      "flex_flow": null,
      "grid_area": null,
      "grid_auto_columns": null,
      "grid_auto_flow": null,
      "grid_auto_rows": null,
      "grid_column": null,
      "grid_gap": null,
      "grid_row": null,
      "grid_template_areas": null,
      "grid_template_columns": null,
      "grid_template_rows": null,
      "height": null,
      "justify_content": null,
      "justify_items": null,
      "left": null,
      "margin": null,
      "max_height": null,
      "max_width": null,
      "min_height": null,
      "min_width": null,
      "object_fit": null,
      "object_position": null,
      "order": null,
      "overflow": null,
      "overflow_x": null,
      "overflow_y": null,
      "padding": null,
      "right": null,
      "top": null,
      "visibility": null,
      "width": null
     }
    },
    "18974e0bd617473badffe5ae5840f237": {
     "model_module": "@jupyter-widgets/base",
     "model_name": "LayoutModel",
     "state": {
      "_model_module": "@jupyter-widgets/base",
      "_model_module_version": "1.2.0",
      "_model_name": "LayoutModel",
      "_view_count": null,
      "_view_module": "@jupyter-widgets/base",
      "_view_module_version": "1.2.0",
      "_view_name": "LayoutView",
      "align_content": null,
      "align_items": null,
      "align_self": null,
      "border": null,
      "bottom": null,
      "display": null,
      "flex": null,
      "flex_flow": null,
      "grid_area": null,
      "grid_auto_columns": null,
      "grid_auto_flow": null,
      "grid_auto_rows": null,
      "grid_column": null,
      "grid_gap": null,
      "grid_row": null,
      "grid_template_areas": null,
      "grid_template_columns": null,
      "grid_template_rows": null,
      "height": null,
      "justify_content": null,
      "justify_items": null,
      "left": null,
      "margin": null,
      "max_height": null,
      "max_width": null,
      "min_height": null,
      "min_width": null,
      "object_fit": null,
      "object_position": null,
      "order": null,
      "overflow": null,
      "overflow_x": null,
      "overflow_y": null,
      "padding": null,
      "right": null,
      "top": null,
      "visibility": null,
      "width": null
     }
    },
    "22f3c52c357b45ff88a6fb2b2d20af1a": {
     "model_module": "@jupyter-widgets/controls",
     "model_name": "HTMLModel",
     "state": {
      "_dom_classes": [],
      "_model_module": "@jupyter-widgets/controls",
      "_model_module_version": "1.5.0",
      "_model_name": "HTMLModel",
      "_view_count": null,
      "_view_module": "@jupyter-widgets/controls",
      "_view_module_version": "1.5.0",
      "_view_name": "HTMLView",
      "description": "",
      "description_tooltip": null,
      "layout": "IPY_MODEL_7ae5dfbd496141278f9d26f14416803b",
      "placeholder": "​",
      "style": "IPY_MODEL_272f46884a11408fa6b4a42c8ef445c1",
      "value": " 4191/4191 [00:00&lt;00:00, 64131.54it/s]"
     }
    },
    "272f46884a11408fa6b4a42c8ef445c1": {
     "model_module": "@jupyter-widgets/controls",
     "model_name": "DescriptionStyleModel",
     "state": {
      "_model_module": "@jupyter-widgets/controls",
      "_model_module_version": "1.5.0",
      "_model_name": "DescriptionStyleModel",
      "_view_count": null,
      "_view_module": "@jupyter-widgets/base",
      "_view_module_version": "1.2.0",
      "_view_name": "StyleView",
      "description_width": ""
     }
    },
    "350fffa6924d47b9823fc4d33c7cadbc": {
     "model_module": "@jupyter-widgets/base",
     "model_name": "LayoutModel",
     "state": {
      "_model_module": "@jupyter-widgets/base",
      "_model_module_version": "1.2.0",
      "_model_name": "LayoutModel",
      "_view_count": null,
      "_view_module": "@jupyter-widgets/base",
      "_view_module_version": "1.2.0",
      "_view_name": "LayoutView",
      "align_content": null,
      "align_items": null,
      "align_self": null,
      "border": null,
      "bottom": null,
      "display": null,
      "flex": null,
      "flex_flow": null,
      "grid_area": null,
      "grid_auto_columns": null,
      "grid_auto_flow": null,
      "grid_auto_rows": null,
      "grid_column": null,
      "grid_gap": null,
      "grid_row": null,
      "grid_template_areas": null,
      "grid_template_columns": null,
      "grid_template_rows": null,
      "height": null,
      "justify_content": null,
      "justify_items": null,
      "left": null,
      "margin": null,
      "max_height": null,
      "max_width": null,
      "min_height": null,
      "min_width": null,
      "object_fit": null,
      "object_position": null,
      "order": null,
      "overflow": null,
      "overflow_x": null,
      "overflow_y": null,
      "padding": null,
      "right": null,
      "top": null,
      "visibility": null,
      "width": null
     }
    },
    "37f2f415c66d445882d30aaa9f46b3c4": {
     "model_module": "@jupyter-widgets/controls",
     "model_name": "ProgressStyleModel",
     "state": {
      "_model_module": "@jupyter-widgets/controls",
      "_model_module_version": "1.5.0",
      "_model_name": "ProgressStyleModel",
      "_view_count": null,
      "_view_module": "@jupyter-widgets/base",
      "_view_module_version": "1.2.0",
      "_view_name": "StyleView",
      "bar_color": null,
      "description_width": "initial"
     }
    },
    "4681f63661c44a7681bc0e7a67566cf0": {
     "model_module": "@jupyter-widgets/controls",
     "model_name": "HBoxModel",
     "state": {
      "_dom_classes": [],
      "_model_module": "@jupyter-widgets/controls",
      "_model_module_version": "1.5.0",
      "_model_name": "HBoxModel",
      "_view_count": null,
      "_view_module": "@jupyter-widgets/controls",
      "_view_module_version": "1.5.0",
      "_view_name": "HBoxView",
      "box_style": "",
      "children": [
       "IPY_MODEL_f35f37f345bb4f4ba49488f3ed24baf1",
       "IPY_MODEL_056b218619d94be5a0f469fe88a89c08"
      ],
      "layout": "IPY_MODEL_f33739af70d34b48ba5d5d28368ca773"
     }
    },
    "63b788278dde411d886d14bbe3323cae": {
     "model_module": "@jupyter-widgets/controls",
     "model_name": "HBoxModel",
     "state": {
      "_dom_classes": [],
      "_model_module": "@jupyter-widgets/controls",
      "_model_module_version": "1.5.0",
      "_model_name": "HBoxModel",
      "_view_count": null,
      "_view_module": "@jupyter-widgets/controls",
      "_view_module_version": "1.5.0",
      "_view_name": "HBoxView",
      "box_style": "",
      "children": [
       "IPY_MODEL_ce522ce436e44704bdc1d4c2b8dcff23",
       "IPY_MODEL_0de0e27abe7b4009b34d50ab20e25636"
      ],
      "layout": "IPY_MODEL_350fffa6924d47b9823fc4d33c7cadbc"
     }
    },
    "711f86a0f6894ad58a29b1d8ff705bd1": {
     "model_module": "@jupyter-widgets/base",
     "model_name": "LayoutModel",
     "state": {
      "_model_module": "@jupyter-widgets/base",
      "_model_module_version": "1.2.0",
      "_model_name": "LayoutModel",
      "_view_count": null,
      "_view_module": "@jupyter-widgets/base",
      "_view_module_version": "1.2.0",
      "_view_name": "LayoutView",
      "align_content": null,
      "align_items": null,
      "align_self": null,
      "border": null,
      "bottom": null,
      "display": null,
      "flex": null,
      "flex_flow": null,
      "grid_area": null,
      "grid_auto_columns": null,
      "grid_auto_flow": null,
      "grid_auto_rows": null,
      "grid_column": null,
      "grid_gap": null,
      "grid_row": null,
      "grid_template_areas": null,
      "grid_template_columns": null,
      "grid_template_rows": null,
      "height": null,
      "justify_content": null,
      "justify_items": null,
      "left": null,
      "margin": null,
      "max_height": null,
      "max_width": null,
      "min_height": null,
      "min_width": null,
      "object_fit": null,
      "object_position": null,
      "order": null,
      "overflow": null,
      "overflow_x": null,
      "overflow_y": null,
      "padding": null,
      "right": null,
      "top": null,
      "visibility": null,
      "width": null
     }
    },
    "7955b7e6a0d04eb5a6eaea23e79a84e8": {
     "model_module": "@jupyter-widgets/controls",
     "model_name": "DescriptionStyleModel",
     "state": {
      "_model_module": "@jupyter-widgets/controls",
      "_model_module_version": "1.5.0",
      "_model_name": "DescriptionStyleModel",
      "_view_count": null,
      "_view_module": "@jupyter-widgets/base",
      "_view_module_version": "1.2.0",
      "_view_name": "StyleView",
      "description_width": ""
     }
    },
    "7ae5dfbd496141278f9d26f14416803b": {
     "model_module": "@jupyter-widgets/base",
     "model_name": "LayoutModel",
     "state": {
      "_model_module": "@jupyter-widgets/base",
      "_model_module_version": "1.2.0",
      "_model_name": "LayoutModel",
      "_view_count": null,
      "_view_module": "@jupyter-widgets/base",
      "_view_module_version": "1.2.0",
      "_view_name": "LayoutView",
      "align_content": null,
      "align_items": null,
      "align_self": null,
      "border": null,
      "bottom": null,
      "display": null,
      "flex": null,
      "flex_flow": null,
      "grid_area": null,
      "grid_auto_columns": null,
      "grid_auto_flow": null,
      "grid_auto_rows": null,
      "grid_column": null,
      "grid_gap": null,
      "grid_row": null,
      "grid_template_areas": null,
      "grid_template_columns": null,
      "grid_template_rows": null,
      "height": null,
      "justify_content": null,
      "justify_items": null,
      "left": null,
      "margin": null,
      "max_height": null,
      "max_width": null,
      "min_height": null,
      "min_width": null,
      "object_fit": null,
      "object_position": null,
      "order": null,
      "overflow": null,
      "overflow_x": null,
      "overflow_y": null,
      "padding": null,
      "right": null,
      "top": null,
      "visibility": null,
      "width": null
     }
    },
    "808df98dfbd8403da166fab640818b78": {
     "model_module": "@jupyter-widgets/controls",
     "model_name": "HBoxModel",
     "state": {
      "_dom_classes": [],
      "_model_module": "@jupyter-widgets/controls",
      "_model_module_version": "1.5.0",
      "_model_name": "HBoxModel",
      "_view_count": null,
      "_view_module": "@jupyter-widgets/controls",
      "_view_module_version": "1.5.0",
      "_view_name": "HBoxView",
      "box_style": "",
      "children": [
       "IPY_MODEL_cbfb7a01bca2464cb7480bd8fb265287",
       "IPY_MODEL_22f3c52c357b45ff88a6fb2b2d20af1a"
      ],
      "layout": "IPY_MODEL_086800b9fa784dcdb41b57f3c080d656"
     }
    },
    "89350b5c5cb8407389607cdbf49db21d": {
     "model_module": "@jupyter-widgets/controls",
     "model_name": "ProgressStyleModel",
     "state": {
      "_model_module": "@jupyter-widgets/controls",
      "_model_module_version": "1.5.0",
      "_model_name": "ProgressStyleModel",
      "_view_count": null,
      "_view_module": "@jupyter-widgets/base",
      "_view_module_version": "1.2.0",
      "_view_name": "StyleView",
      "bar_color": null,
      "description_width": "initial"
     }
    },
    "a72a27c8c5f14c90b3b43dbc582119a8": {
     "model_module": "@jupyter-widgets/controls",
     "model_name": "DescriptionStyleModel",
     "state": {
      "_model_module": "@jupyter-widgets/controls",
      "_model_module_version": "1.5.0",
      "_model_name": "DescriptionStyleModel",
      "_view_count": null,
      "_view_module": "@jupyter-widgets/base",
      "_view_module_version": "1.2.0",
      "_view_name": "StyleView",
      "description_width": ""
     }
    },
    "c845cddaf1594d61929666e586751f85": {
     "model_module": "@jupyter-widgets/base",
     "model_name": "LayoutModel",
     "state": {
      "_model_module": "@jupyter-widgets/base",
      "_model_module_version": "1.2.0",
      "_model_name": "LayoutModel",
      "_view_count": null,
      "_view_module": "@jupyter-widgets/base",
      "_view_module_version": "1.2.0",
      "_view_name": "LayoutView",
      "align_content": null,
      "align_items": null,
      "align_self": null,
      "border": null,
      "bottom": null,
      "display": null,
      "flex": null,
      "flex_flow": null,
      "grid_area": null,
      "grid_auto_columns": null,
      "grid_auto_flow": null,
      "grid_auto_rows": null,
      "grid_column": null,
      "grid_gap": null,
      "grid_row": null,
      "grid_template_areas": null,
      "grid_template_columns": null,
      "grid_template_rows": null,
      "height": null,
      "justify_content": null,
      "justify_items": null,
      "left": null,
      "margin": null,
      "max_height": null,
      "max_width": null,
      "min_height": null,
      "min_width": null,
      "object_fit": null,
      "object_position": null,
      "order": null,
      "overflow": null,
      "overflow_x": null,
      "overflow_y": null,
      "padding": null,
      "right": null,
      "top": null,
      "visibility": null,
      "width": null
     }
    },
    "cbfb7a01bca2464cb7480bd8fb265287": {
     "model_module": "@jupyter-widgets/controls",
     "model_name": "FloatProgressModel",
     "state": {
      "_dom_classes": [],
      "_model_module": "@jupyter-widgets/controls",
      "_model_module_version": "1.5.0",
      "_model_name": "FloatProgressModel",
      "_view_count": null,
      "_view_module": "@jupyter-widgets/controls",
      "_view_module_version": "1.5.0",
      "_view_name": "ProgressView",
      "bar_style": "success",
      "description": "100%",
      "description_tooltip": null,
      "layout": "IPY_MODEL_18974e0bd617473badffe5ae5840f237",
      "max": 4191,
      "min": 0,
      "orientation": "horizontal",
      "style": "IPY_MODEL_37f2f415c66d445882d30aaa9f46b3c4",
      "value": 4191
     }
    },
    "ce522ce436e44704bdc1d4c2b8dcff23": {
     "model_module": "@jupyter-widgets/controls",
     "model_name": "FloatProgressModel",
     "state": {
      "_dom_classes": [],
      "_model_module": "@jupyter-widgets/controls",
      "_model_module_version": "1.5.0",
      "_model_name": "FloatProgressModel",
      "_view_count": null,
      "_view_module": "@jupyter-widgets/controls",
      "_view_module_version": "1.5.0",
      "_view_name": "ProgressView",
      "bar_style": "success",
      "description": "100%",
      "description_tooltip": null,
      "layout": "IPY_MODEL_e4d42e7d533c4e008c64631c57495ddc",
      "max": 59679,
      "min": 0,
      "orientation": "horizontal",
      "style": "IPY_MODEL_cf954c93104e4da3863e7c565113f51d",
      "value": 59679
     }
    },
    "cf954c93104e4da3863e7c565113f51d": {
     "model_module": "@jupyter-widgets/controls",
     "model_name": "ProgressStyleModel",
     "state": {
      "_model_module": "@jupyter-widgets/controls",
      "_model_module_version": "1.5.0",
      "_model_name": "ProgressStyleModel",
      "_view_count": null,
      "_view_module": "@jupyter-widgets/base",
      "_view_module_version": "1.2.0",
      "_view_name": "StyleView",
      "bar_color": null,
      "description_width": "initial"
     }
    },
    "e4d42e7d533c4e008c64631c57495ddc": {
     "model_module": "@jupyter-widgets/base",
     "model_name": "LayoutModel",
     "state": {
      "_model_module": "@jupyter-widgets/base",
      "_model_module_version": "1.2.0",
      "_model_name": "LayoutModel",
      "_view_count": null,
      "_view_module": "@jupyter-widgets/base",
      "_view_module_version": "1.2.0",
      "_view_name": "LayoutView",
      "align_content": null,
      "align_items": null,
      "align_self": null,
      "border": null,
      "bottom": null,
      "display": null,
      "flex": null,
      "flex_flow": null,
      "grid_area": null,
      "grid_auto_columns": null,
      "grid_auto_flow": null,
      "grid_auto_rows": null,
      "grid_column": null,
      "grid_gap": null,
      "grid_row": null,
      "grid_template_areas": null,
      "grid_template_columns": null,
      "grid_template_rows": null,
      "height": null,
      "justify_content": null,
      "justify_items": null,
      "left": null,
      "margin": null,
      "max_height": null,
      "max_width": null,
      "min_height": null,
      "min_width": null,
      "object_fit": null,
      "object_position": null,
      "order": null,
      "overflow": null,
      "overflow_x": null,
      "overflow_y": null,
      "padding": null,
      "right": null,
      "top": null,
      "visibility": null,
      "width": null
     }
    },
    "f33739af70d34b48ba5d5d28368ca773": {
     "model_module": "@jupyter-widgets/base",
     "model_name": "LayoutModel",
     "state": {
      "_model_module": "@jupyter-widgets/base",
      "_model_module_version": "1.2.0",
      "_model_name": "LayoutModel",
      "_view_count": null,
      "_view_module": "@jupyter-widgets/base",
      "_view_module_version": "1.2.0",
      "_view_name": "LayoutView",
      "align_content": null,
      "align_items": null,
      "align_self": null,
      "border": null,
      "bottom": null,
      "display": null,
      "flex": null,
      "flex_flow": null,
      "grid_area": null,
      "grid_auto_columns": null,
      "grid_auto_flow": null,
      "grid_auto_rows": null,
      "grid_column": null,
      "grid_gap": null,
      "grid_row": null,
      "grid_template_areas": null,
      "grid_template_columns": null,
      "grid_template_rows": null,
      "height": null,
      "justify_content": null,
      "justify_items": null,
      "left": null,
      "margin": null,
      "max_height": null,
      "max_width": null,
      "min_height": null,
      "min_width": null,
      "object_fit": null,
      "object_position": null,
      "order": null,
      "overflow": null,
      "overflow_x": null,
      "overflow_y": null,
      "padding": null,
      "right": null,
      "top": null,
      "visibility": null,
      "width": null
     }
    },
    "f35f37f345bb4f4ba49488f3ed24baf1": {
     "model_module": "@jupyter-widgets/controls",
     "model_name": "FloatProgressModel",
     "state": {
      "_dom_classes": [],
      "_model_module": "@jupyter-widgets/controls",
      "_model_module_version": "1.5.0",
      "_model_name": "FloatProgressModel",
      "_view_count": null,
      "_view_module": "@jupyter-widgets/controls",
      "_view_module_version": "1.5.0",
      "_view_name": "ProgressView",
      "bar_style": "success",
      "description": "100%",
      "description_tooltip": null,
      "layout": "IPY_MODEL_711f86a0f6894ad58a29b1d8ff705bd1",
      "max": 4191,
      "min": 0,
      "orientation": "horizontal",
      "style": "IPY_MODEL_89350b5c5cb8407389607cdbf49db21d",
      "value": 4191
     }
    }
   }
  }
 },
 "nbformat": 4,
 "nbformat_minor": 1
}